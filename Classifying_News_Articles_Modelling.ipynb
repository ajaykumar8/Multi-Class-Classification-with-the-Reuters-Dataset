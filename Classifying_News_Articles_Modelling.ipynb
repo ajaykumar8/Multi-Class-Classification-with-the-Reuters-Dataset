{
  "nbformat": 4,
  "nbformat_minor": 0,
  "metadata": {
    "colab": {
      "provenance": [],
      "include_colab_link": true
    },
    "kernelspec": {
      "name": "python3",
      "display_name": "Python 3"
    },
    "language_info": {
      "name": "python"
    }
  },
  "cells": [
    {
      "cell_type": "markdown",
      "metadata": {
        "id": "view-in-github",
        "colab_type": "text"
      },
      "source": [
        "<a href=\"https://colab.research.google.com/github/ajaykumar8/Multi-Class-Classification-with-the-Reuters-Dataset/blob/main/Classifying_News_Articles_Modelling.ipynb\" target=\"_parent\"><img src=\"https://colab.research.google.com/assets/colab-badge.svg\" alt=\"Open In Colab\"/></a>"
      ]
    },
    {
      "cell_type": "markdown",
      "source": [
        "Build the multi-class classification model that we built in class."
      ],
      "metadata": {
        "id": "DC9pd9dRPY5f"
      }
    },
    {
      "cell_type": "markdown",
      "source": [],
      "metadata": {
        "id": "F_qL_Z3QTdpU"
      }
    },
    {
      "cell_type": "markdown",
      "source": [
        "Classifying newswires: A multiclass classification example\n",
        "The Reuters dataset"
      ],
      "metadata": {
        "id": "eBjXp6zMsaZY"
      }
    },
    {
      "cell_type": "code",
      "execution_count": null,
      "metadata": {
        "id": "5v0J1LroPAKO",
        "colab": {
          "base_uri": "https://localhost:8080/"
        },
        "outputId": "dddfa508-c43d-41a9-949c-0cad7e49e25e"
      },
      "outputs": [
        {
          "output_type": "stream",
          "name": "stdout",
          "text": [
            "Downloading data from https://storage.googleapis.com/tensorflow/tf-keras-datasets/reuters.npz\n",
            "2110848/2110848 [==============================] - 0s 0us/step\n"
          ]
        }
      ],
      "source": [
        "from tensorflow.keras.datasets import reuters\n",
        "(train_data, train_labels), (test_data, test_labels) = reuters.load_data(\n",
        "    num_words=10000)"
      ]
    },
    {
      "cell_type": "code",
      "source": [
        "len(train_data,test_data)"
      ],
      "metadata": {
        "colab": {
          "base_uri": "https://localhost:8080/"
        },
        "id": "phHwDwTFuM9U",
        "outputId": "0b0705cc-ba8a-4181-8ab6-02f7142eb840"
      },
      "execution_count": null,
      "outputs": [
        {
          "output_type": "execute_result",
          "data": {
            "text/plain": [
              "8982"
            ]
          },
          "metadata": {},
          "execution_count": 2
        }
      ]
    },
    {
      "cell_type": "code",
      "source": [
        "len(test_data)"
      ],
      "metadata": {
        "colab": {
          "base_uri": "https://localhost:8080/"
        },
        "id": "JTu1EsV3uN8r",
        "outputId": "5f7ffa4b-d9ff-42f2-a610-280a13fedc34"
      },
      "execution_count": null,
      "outputs": [
        {
          "output_type": "execute_result",
          "data": {
            "text/plain": [
              "2246"
            ]
          },
          "metadata": {},
          "execution_count": 3
        }
      ]
    },
    {
      "cell_type": "code",
      "source": [
        "word_index = reuters.get_word_index()"
      ],
      "metadata": {
        "id": "k6-3f25UuP6O",
        "colab": {
          "base_uri": "https://localhost:8080/"
        },
        "outputId": "a1d00708-0edf-4718-e7b4-6e3f62e44f80"
      },
      "execution_count": null,
      "outputs": [
        {
          "output_type": "stream",
          "name": "stdout",
          "text": [
            "Downloading data from https://storage.googleapis.com/tensorflow/tf-keras-datasets/reuters_word_index.json\n",
            "550378/550378 [==============================] - 0s 0us/step\n"
          ]
        }
      ]
    },
    {
      "cell_type": "code",
      "source": [
        "reverse_word_index = dict([(value, key) for (key, value) in word_index.items()])"
      ],
      "metadata": {
        "id": "emBDOh6KuYib"
      },
      "execution_count": null,
      "outputs": []
    },
    {
      "cell_type": "code",
      "source": [
        "decoded_newswire = \" \".join([reverse_word_index.get(i - 3, \"?\") for i in\n",
        "    train_data[0]])"
      ],
      "metadata": {
        "id": "KWynyWkVuZkz"
      },
      "execution_count": null,
      "outputs": []
    },
    {
      "cell_type": "code",
      "source": [
        "import numpy as np\n",
        "def vectorize_sequences(sequences, dimension=10000):\n",
        "    results = np.zeros((len(sequences), dimension))\n",
        "    for i, sequence in enumerate(sequences):\n",
        "        for j in sequence:\n",
        "            results[i, j] = 1.\n",
        "    return results\n",
        "x_train = vectorize_sequences(train_data)\n",
        "x_test = vectorize_sequences(test_data)"
      ],
      "metadata": {
        "id": "-cCvhnoCuwAg"
      },
      "execution_count": null,
      "outputs": []
    },
    {
      "cell_type": "code",
      "source": [
        "def to_one_hot(labels, dimension=46):\n",
        "    results = np.zeros((len(labels), dimension))\n",
        "    for i, label in enumerate(labels):\n",
        "        results[i, label] = 1.\n",
        "    return results\n",
        "y_train = to_one_hot(train_labels)\n",
        "y_test = to_one_hot(test_labels)"
      ],
      "metadata": {
        "id": "hUZwGyTdvAKm"
      },
      "execution_count": null,
      "outputs": []
    },
    {
      "cell_type": "code",
      "source": [
        "from tensorflow.keras.utils import to_categorical\n",
        "y_train = to_categorical(train_labels)\n",
        "y_test = to_categorical(test_labels)"
      ],
      "metadata": {
        "id": "4eAG37iKv9d9"
      },
      "execution_count": null,
      "outputs": []
    },
    {
      "cell_type": "code",
      "source": [
        "from tensorflow import keras\n",
        "from tensorflow.keras import layers"
      ],
      "metadata": {
        "id": "WxY2YjjVwSjU"
      },
      "execution_count": null,
      "outputs": []
    },
    {
      "cell_type": "code",
      "source": [
        "model = keras.Sequential([\n",
        "    layers.Dense(64, activation=\"relu\"),\n",
        "    layers.Dense(64, activation=\"relu\"),\n",
        "    layers.Dense(46, activation=\"softmax\")\n",
        "])"
      ],
      "metadata": {
        "id": "hoCMZoh4wWgJ"
      },
      "execution_count": null,
      "outputs": []
    },
    {
      "cell_type": "code",
      "source": [
        "model.compile(optimizer=\"rmsprop\",\n",
        "              loss=\"categorical_crossentropy\",\n",
        "              metrics=[\"accuracy\"])"
      ],
      "metadata": {
        "id": "EfxaF-wtwq3F"
      },
      "execution_count": null,
      "outputs": []
    },
    {
      "cell_type": "code",
      "source": [
        "x_val = x_train[:1000]\n",
        "partial_x_train = x_train[1000:]\n",
        "y_val = y_train[:1000]\n",
        "partial_y_train = y_train[1000:]"
      ],
      "metadata": {
        "id": "r_AYbSUswq_a"
      },
      "execution_count": null,
      "outputs": []
    },
    {
      "cell_type": "code",
      "source": [
        "history = model.fit(partial_x_train,\n",
        "                    partial_y_train,\n",
        "                    epochs=15,\n",
        "                    batch_size=512,\n",
        "                    validation_data=(x_val, y_val))"
      ],
      "metadata": {
        "colab": {
          "base_uri": "https://localhost:8080/"
        },
        "id": "Mn_ddugoz57w",
        "outputId": "21c88e02-79e5-4fa2-e212-04851e0848d1"
      },
      "execution_count": null,
      "outputs": [
        {
          "output_type": "stream",
          "name": "stdout",
          "text": [
            "Epoch 1/20\n",
            "16/16 [==============================] - 8s 371ms/step - loss: 2.7322 - accuracy: 0.4986 - val_loss: 1.8515 - val_accuracy: 0.6440\n",
            "Epoch 2/20\n",
            "16/16 [==============================] - 5s 305ms/step - loss: 1.5306 - accuracy: 0.6887 - val_loss: 1.3578 - val_accuracy: 0.6910\n",
            "Epoch 3/20\n",
            "16/16 [==============================] - 5s 302ms/step - loss: 1.1652 - accuracy: 0.7407 - val_loss: 1.1731 - val_accuracy: 0.7420\n",
            "Epoch 4/20\n",
            "16/16 [==============================] - 5s 333ms/step - loss: 0.9492 - accuracy: 0.7940 - val_loss: 1.0611 - val_accuracy: 0.7670\n",
            "Epoch 5/20\n",
            "16/16 [==============================] - 4s 221ms/step - loss: 0.7837 - accuracy: 0.8299 - val_loss: 0.9760 - val_accuracy: 0.7930\n",
            "Epoch 6/20\n",
            "16/16 [==============================] - 1s 90ms/step - loss: 0.6539 - accuracy: 0.8591 - val_loss: 0.9258 - val_accuracy: 0.8010\n",
            "Epoch 7/20\n",
            "16/16 [==============================] - 1s 67ms/step - loss: 0.5445 - accuracy: 0.8819 - val_loss: 0.9203 - val_accuracy: 0.7920\n",
            "Epoch 8/20\n",
            "16/16 [==============================] - 1s 60ms/step - loss: 0.4570 - accuracy: 0.9022 - val_loss: 0.8898 - val_accuracy: 0.8000\n",
            "Epoch 9/20\n",
            "16/16 [==============================] - 1s 58ms/step - loss: 0.3828 - accuracy: 0.9181 - val_loss: 0.8546 - val_accuracy: 0.8120\n",
            "Epoch 10/20\n",
            "16/16 [==============================] - 1s 57ms/step - loss: 0.3278 - accuracy: 0.9296 - val_loss: 0.8467 - val_accuracy: 0.8190\n",
            "Epoch 11/20\n",
            "16/16 [==============================] - 1s 58ms/step - loss: 0.2826 - accuracy: 0.9371 - val_loss: 0.9042 - val_accuracy: 0.8060\n",
            "Epoch 12/20\n",
            "16/16 [==============================] - 1s 58ms/step - loss: 0.2492 - accuracy: 0.9448 - val_loss: 0.8519 - val_accuracy: 0.8200\n",
            "Epoch 13/20\n",
            "16/16 [==============================] - 1s 89ms/step - loss: 0.2193 - accuracy: 0.9488 - val_loss: 0.8808 - val_accuracy: 0.8160\n",
            "Epoch 14/20\n",
            "16/16 [==============================] - 2s 103ms/step - loss: 0.1998 - accuracy: 0.9509 - val_loss: 0.8684 - val_accuracy: 0.8180\n",
            "Epoch 15/20\n",
            "16/16 [==============================] - 1s 67ms/step - loss: 0.1794 - accuracy: 0.9514 - val_loss: 0.8907 - val_accuracy: 0.8170\n",
            "Epoch 16/20\n",
            "16/16 [==============================] - 1s 57ms/step - loss: 0.1645 - accuracy: 0.9540 - val_loss: 0.8756 - val_accuracy: 0.8170\n",
            "Epoch 17/20\n",
            "16/16 [==============================] - 1s 60ms/step - loss: 0.1561 - accuracy: 0.9554 - val_loss: 0.8690 - val_accuracy: 0.8310\n",
            "Epoch 18/20\n",
            "16/16 [==============================] - 1s 58ms/step - loss: 0.1481 - accuracy: 0.9544 - val_loss: 0.9082 - val_accuracy: 0.8160\n",
            "Epoch 19/20\n",
            "16/16 [==============================] - 1s 58ms/step - loss: 0.1449 - accuracy: 0.9546 - val_loss: 0.9374 - val_accuracy: 0.8100\n",
            "Epoch 20/20\n",
            "16/16 [==============================] - 1s 56ms/step - loss: 0.1325 - accuracy: 0.9569 - val_loss: 0.9454 - val_accuracy: 0.8110\n"
          ]
        }
      ]
    },
    {
      "cell_type": "markdown",
      "source": [
        "At epoch we achieved accuracy of 0.95 after which the epoch dont improve the accuracy that much and model might overfit , we should limit the epochs to 15."
      ],
      "metadata": {
        "id": "4bheUc-V-q_e"
      }
    },
    {
      "cell_type": "code",
      "source": [
        "import matplotlib.pyplot as plt\n",
        "loss = history.history[\"loss\"]\n",
        "val_loss = history.history[\"val_loss\"]\n",
        "epochs = range(1, len(loss) + 1)\n",
        "plt.plot(epochs, loss, \"bo\", label=\"Training loss\")\n",
        "plt.plot(epochs, val_loss, \"b\", label=\"Validation loss\")\n",
        "plt.title(\"Training and validation loss\")\n",
        "plt.xlabel(\"Epochs\")\n",
        "plt.ylabel(\"Loss\")\n",
        "plt.legend()\n",
        "plt.show()"
      ],
      "metadata": {
        "colab": {
          "base_uri": "https://localhost:8080/",
          "height": 295
        },
        "id": "M2qskyIo0MCd",
        "outputId": "b2da287f-bba7-4a4d-f35f-74bd64febf66"
      },
      "execution_count": null,
      "outputs": [
        {
          "output_type": "display_data",
          "data": {
            "text/plain": [
              "<Figure size 432x288 with 1 Axes>"
            ],
            "image/png": "[encoded data removed]"
          },
          "metadata": {
            "needs_background": "light"
          }
        }
      ]
    },
    {
      "cell_type": "code",
      "source": [
        "plt.clf()\n",
        "acc = history.history[\"accuracy\"]\n",
        "val_acc = history.history[\"val_accuracy\"]\n",
        "plt.plot(epochs, acc, \"bo\", label=\"Training accuracy\")\n",
        "plt.plot(epochs, val_acc, \"b\", label=\"Validation accuracy\")\n",
        "plt.title(\"Training and validation accuracy\")\n",
        "plt.xlabel(\"Epochs\")\n",
        "plt.ylabel(\"Accuracy\")\n",
        "plt.legend()\n",
        "plt.show()"
      ],
      "metadata": {
        "colab": {
          "base_uri": "https://localhost:8080/",
          "height": 295
        },
        "id": "ICDi-dDc1IHM",
        "outputId": "264026d7-8bf1-45ea-d892-303be1266f09"
      },
      "execution_count": null,
      "outputs": [
        {
          "output_type": "display_data",
          "data": {
            "text/plain": [
              "<Figure size 432x288 with 1 Axes>"
            ],
            "image/png": "[encoded data removed]"
          },
          "metadata": {
            "needs_background": "light"
          }
        }
      ]
    },
    {
      "cell_type": "code",
      "source": [
        "model = keras.Sequential([\n",
        "  layers.Dense(64, activation=\"relu\"),\n",
        "  layers.Dense(64, activation=\"relu\"),\n",
        "  layers.Dense(46, activation=\"softmax\")\n",
        "])\n",
        "model.compile(optimizer=\"rmsprop\",\n",
        "              loss=\"categorical_crossentropy\",\n",
        "              metrics=[\"accuracy\"])\n",
        "model.fit(x_train,\n",
        "          y_train,\n",
        "          epochs=9,\n",
        "          batch_size=512)\n",
        "results = model.evaluate(x_test, y_test)"
      ],
      "metadata": {
        "colab": {
          "base_uri": "https://localhost:8080/"
        },
        "id": "3qHZ3iYF1K_j",
        "outputId": "6fb974ee-e2e6-475c-d8d6-56a4df27fb6f"
      },
      "execution_count": null,
      "outputs": [
        {
          "output_type": "stream",
          "name": "stdout",
          "text": [
            "Epoch 1/9\n",
            "18/18 [==============================] - 2s 54ms/step - loss: 2.5960 - accuracy: 0.4606\n",
            "Epoch 2/9\n",
            "18/18 [==============================] - 1s 49ms/step - loss: 1.4717 - accuracy: 0.6859\n",
            "Epoch 3/9\n",
            "18/18 [==============================] - 1s 65ms/step - loss: 1.1442 - accuracy: 0.7525\n",
            "Epoch 4/9\n",
            "18/18 [==============================] - 2s 86ms/step - loss: 0.9353 - accuracy: 0.8020\n",
            "Epoch 5/9\n",
            "18/18 [==============================] - 1s 77ms/step - loss: 0.7660 - accuracy: 0.8371\n",
            "Epoch 6/9\n",
            "18/18 [==============================] - 1s 49ms/step - loss: 0.6286 - accuracy: 0.8661\n",
            "Epoch 7/9\n",
            "18/18 [==============================] - 1s 48ms/step - loss: 0.5189 - accuracy: 0.8884\n",
            "Epoch 8/9\n",
            "18/18 [==============================] - 1s 48ms/step - loss: 0.4317 - accuracy: 0.9088\n",
            "Epoch 9/9\n",
            "18/18 [==============================] - 1s 51ms/step - loss: 0.3665 - accuracy: 0.9226\n",
            "71/71 [==============================] - 0s 4ms/step - loss: 0.9141 - accuracy: 0.7916\n"
          ]
        }
      ]
    },
    {
      "cell_type": "code",
      "source": [
        "results"
      ],
      "metadata": {
        "colab": {
          "base_uri": "https://localhost:8080/"
        },
        "id": "Sc917lsa1RKX",
        "outputId": "39e6e2f4-62d2-4c44-d2d1-ee84c10d7832"
      },
      "execution_count": null,
      "outputs": [
        {
          "output_type": "execute_result",
          "data": {
            "text/plain": [
              "[0.9140953421592712, 0.7916295528411865]"
            ]
          },
          "metadata": {},
          "execution_count": 18
        }
      ]
    },
    {
      "cell_type": "markdown",
      "source": [
        "# Modified Model #1"
      ],
      "metadata": {
        "id": "bpNff4VtP-sJ"
      }
    },
    {
      "cell_type": "markdown",
      "source": [
        "Now try modifying your model. You can modify it in one of the ways I've suggested below, or come up with your own modification."
      ],
      "metadata": {
        "id": "nLT2h24IP-sK"
      }
    },
    {
      "cell_type": "markdown",
      "source": [
        "Modification suggestions:\n",
        "* Use more dense layers\n",
        "* Use fewer dense layers\n",
        "* Change the number of units in the dense layers\n",
        "* Use more or fewer than the 10,000 most-popular words"
      ],
      "metadata": {
        "id": "vCNQJO7JSsdw"
      }
    },
    {
      "cell_type": "markdown",
      "source": [
        "# ***Added more dense layers and increasing the number of units in the dense layers***\n",
        "\n",
        "---\n",
        "\n"
      ],
      "metadata": {
        "id": "teVxEOraq-np"
      }
    },
    {
      "cell_type": "code",
      "execution_count": null,
      "metadata": {
        "id": "jonNWqkDP-sK",
        "colab": {
          "base_uri": "https://localhost:8080/"
        },
        "outputId": "3ac6b865-4e13-4f69-adea-19eb02bd4d5b"
      },
      "outputs": [
        {
          "output_type": "stream",
          "name": "stdout",
          "text": [
            "Epoch 1/20\n",
            "16/16 [==============================] - 3s 113ms/step - loss: 2.2955 - accuracy: 0.4781 - val_loss: 1.7483 - val_accuracy: 0.4880\n",
            "Epoch 2/20\n",
            "16/16 [==============================] - 2s 99ms/step - loss: 1.3333 - accuracy: 0.6883 - val_loss: 1.2050 - val_accuracy: 0.7140\n",
            "Epoch 3/20\n",
            "16/16 [==============================] - 2s 129ms/step - loss: 1.0406 - accuracy: 0.7538 - val_loss: 1.0769 - val_accuracy: 0.7460\n",
            "Epoch 4/20\n",
            "16/16 [==============================] - 2s 134ms/step - loss: 0.7894 - accuracy: 0.8171 - val_loss: 1.0614 - val_accuracy: 0.7640\n",
            "Epoch 5/20\n",
            "16/16 [==============================] - 1s 85ms/step - loss: 0.6288 - accuracy: 0.8464 - val_loss: 1.1122 - val_accuracy: 0.7700\n",
            "Epoch 6/20\n",
            "16/16 [==============================] - 1s 88ms/step - loss: 0.4975 - accuracy: 0.8822 - val_loss: 0.9234 - val_accuracy: 0.8070\n",
            "Epoch 7/20\n",
            "16/16 [==============================] - 1s 92ms/step - loss: 0.3943 - accuracy: 0.9089 - val_loss: 0.9729 - val_accuracy: 0.7900\n",
            "Epoch 8/20\n",
            "16/16 [==============================] - 2s 97ms/step - loss: 0.3063 - accuracy: 0.9251 - val_loss: 0.9144 - val_accuracy: 0.8070\n",
            "Epoch 9/20\n",
            "16/16 [==============================] - 1s 91ms/step - loss: 0.2754 - accuracy: 0.9325 - val_loss: 0.9154 - val_accuracy: 0.8190\n",
            "Epoch 10/20\n",
            "16/16 [==============================] - 2s 97ms/step - loss: 0.2019 - accuracy: 0.9494 - val_loss: 1.0914 - val_accuracy: 0.7920\n",
            "Epoch 11/20\n",
            "16/16 [==============================] - 2s 119ms/step - loss: 0.1939 - accuracy: 0.9503 - val_loss: 1.0741 - val_accuracy: 0.7880\n",
            "Epoch 12/20\n",
            "16/16 [==============================] - 2s 140ms/step - loss: 0.1788 - accuracy: 0.9493 - val_loss: 1.0280 - val_accuracy: 0.7940\n",
            "Epoch 13/20\n",
            "16/16 [==============================] - 1s 85ms/step - loss: 0.1668 - accuracy: 0.9516 - val_loss: 0.9257 - val_accuracy: 0.8130\n",
            "Epoch 14/20\n",
            "16/16 [==============================] - 1s 88ms/step - loss: 0.1365 - accuracy: 0.9567 - val_loss: 1.1708 - val_accuracy: 0.7700\n",
            "Epoch 15/20\n",
            "16/16 [==============================] - 1s 84ms/step - loss: 0.1449 - accuracy: 0.9531 - val_loss: 1.0629 - val_accuracy: 0.7960\n",
            "Epoch 16/20\n",
            "16/16 [==============================] - 1s 85ms/step - loss: 0.1298 - accuracy: 0.9575 - val_loss: 0.9967 - val_accuracy: 0.7930\n",
            "Epoch 17/20\n",
            "16/16 [==============================] - 1s 84ms/step - loss: 0.1311 - accuracy: 0.9555 - val_loss: 0.9806 - val_accuracy: 0.8120\n",
            "Epoch 18/20\n",
            "16/16 [==============================] - 1s 86ms/step - loss: 0.1269 - accuracy: 0.9539 - val_loss: 1.0193 - val_accuracy: 0.8090\n",
            "Epoch 19/20\n",
            "16/16 [==============================] - 1s 86ms/step - loss: 0.1133 - accuracy: 0.9599 - val_loss: 1.0314 - val_accuracy: 0.8010\n",
            "Epoch 20/20\n",
            "16/16 [==============================] - 2s 133ms/step - loss: 0.1158 - accuracy: 0.9590 - val_loss: 1.0681 - val_accuracy: 0.7860\n"
          ]
        }
      ],
      "source": [
        "model = keras.Sequential([\n",
        "    layers.Dense(128, activation=\"relu\"),\n",
        "    layers.Dense(256, activation=\"relu\"),\n",
        "    layers.Dense(256, activation=\"relu\"),\n",
        "    layers.Dense(46, activation=\"softmax\")\n",
        "])\n",
        "\n",
        "\n",
        "model.compile(optimizer=\"rmsprop\",\n",
        "              loss=\"categorical_crossentropy\",\n",
        "              metrics=[\"accuracy\"])\n",
        "\n",
        "x_val = x_train[:1000]\n",
        "partial_x_train = x_train[1000:]\n",
        "y_val = y_train[:1000]\n",
        "partial_y_train = y_train[1000:]\n",
        "\n",
        "history = model.fit(partial_x_train,\n",
        "                    partial_y_train,\n",
        "                    epochs=20,\n",
        "                    batch_size=512,\n",
        "                    validation_data=(x_val, y_val))"
      ]
    },
    {
      "cell_type": "markdown",
      "source": [
        "*Increasing the number of hidden layers and the number of nodes n each hidden layer, we were able to getbthe accuracy of 0.95 at epochs 13.*"
      ],
      "metadata": {
        "id": "ryVMibymDHaL"
      }
    },
    {
      "cell_type": "markdown",
      "source": [],
      "metadata": {
        "id": "gUrFKHeeCKGN"
      }
    },
    {
      "cell_type": "code",
      "source": [
        "\n",
        "loss = history.history[\"loss\"]\n",
        "val_loss = history.history[\"val_loss\"]\n",
        "epochs = range(1, len(loss) + 1)\n",
        "plt.plot(epochs, loss, \"bo\", label=\"Training loss\")\n",
        "plt.plot(epochs, val_loss, \"b\", label=\"Validation loss\")\n",
        "plt.title(\"Training and validation loss\")\n",
        "plt.xlabel(\"Epochs\")\n",
        "plt.ylabel(\"Loss\")\n",
        "plt.legend()\n",
        "plt.show()"
      ],
      "metadata": {
        "colab": {
          "base_uri": "https://localhost:8080/",
          "height": 295
        },
        "id": "TTG2lfXSqpE7",
        "outputId": "83b943cf-3829-4838-aa05-c4661e58f187"
      },
      "execution_count": null,
      "outputs": [
        {
          "output_type": "display_data",
          "data": {
            "text/plain": [
              "<Figure size 432x288 with 1 Axes>"
            ],
            "image/png": "[encoded data removed]"
          },
          "metadata": {
            "needs_background": "light"
          }
        }
      ]
    },
    {
      "cell_type": "code",
      "source": [
        "plt.clf()\n",
        "acc = history.history[\"accuracy\"]\n",
        "val_acc = history.history[\"val_accuracy\"]\n",
        "plt.plot(epochs, acc, \"bo\", label=\"Training accuracy\")\n",
        "plt.plot(epochs, val_acc, \"b\", label=\"Validation accuracy\")\n",
        "plt.title(\"Training and validation accuracy\")\n",
        "plt.xlabel(\"Epochs\")\n",
        "plt.ylabel(\"Accuracy\")\n",
        "plt.legend()\n",
        "plt.show()"
      ],
      "metadata": {
        "colab": {
          "base_uri": "https://localhost:8080/",
          "height": 295
        },
        "id": "75wOS6h8qp1N",
        "outputId": "c0ba8caa-c0c0-40b2-8fd6-e2a6da33ffe4"
      },
      "execution_count": null,
      "outputs": [
        {
          "output_type": "display_data",
          "data": {
            "text/plain": [
              "<Figure size 432x288 with 1 Axes>"
            ],
            "image/png": "[encoded data removed]"
          },
          "metadata": {
            "needs_background": "light"
          }
        }
      ]
    },
    {
      "cell_type": "markdown",
      "source": [
        "Answer the following questions about Modified Model #1:\n",
        "\n",
        "* What modification(s) did you make?\n",
        "\n",
        "  **Ans:**\n",
        "  *Added more dense layers and increasing the number of units in the dense layers*\n",
        "* How did this impact accuracy?\n",
        "\n",
        "  **Ans:**\n",
        "  *Two more Dense layers with 256 units have been added to this improved model. The model's ability to learn difficult characteristics may be increased by adding additional layers with more units, which could result in better accuracy.*"
      ],
      "metadata": {
        "id": "swQXqJZNSu_B"
      }
    },
    {
      "cell_type": "markdown",
      "source": [
        "# Modified Model #2"
      ],
      "metadata": {
        "id": "9akepy5BTHcf"
      }
    },
    {
      "cell_type": "markdown",
      "source": [
        "Now try modifying your model in a different way. You can modify it in one of the ways I've suggested below, or come up with your own modification."
      ],
      "metadata": {
        "id": "N-H_Fdm3THcg"
      }
    },
    {
      "cell_type": "markdown",
      "source": [
        "Modification suggestions:\n",
        "* Use more dense layers\n",
        "* Use fewer dense layers\n",
        "* Change the number of units in the dense layers\n",
        "* Use more or fewer than the 10,000 most-popular words"
      ],
      "metadata": {
        "id": "kcQNU_OpTHcg"
      }
    },
    {
      "cell_type": "markdown",
      "source": [
        "# ***Using fewer dense layers and increasing the number of units in the dense layers***\n",
        "\n",
        "---\n",
        "\n"
      ],
      "metadata": {
        "id": "sInGVCrYu8QH"
      }
    },
    {
      "cell_type": "code",
      "execution_count": null,
      "metadata": {
        "id": "BSXZyiVVTHcg",
        "colab": {
          "base_uri": "https://localhost:8080/"
        },
        "outputId": "c5cead99-f28f-4ad8-d86e-fb3988ba083c"
      },
      "outputs": [
        {
          "output_type": "stream",
          "name": "stdout",
          "text": [
            "Epoch 1/20\n",
            "16/16 [==============================] - 2s 96ms/step - loss: 2.3244 - accuracy: 0.5753 - val_loss: 1.5474 - val_accuracy: 0.6700\n",
            "Epoch 2/20\n",
            "16/16 [==============================] - 1s 84ms/step - loss: 1.2796 - accuracy: 0.7354 - val_loss: 1.1943 - val_accuracy: 0.7510\n",
            "Epoch 3/20\n",
            "16/16 [==============================] - 1s 78ms/step - loss: 0.9515 - accuracy: 0.8067 - val_loss: 1.0434 - val_accuracy: 0.7830\n",
            "Epoch 4/20\n",
            "16/16 [==============================] - 1s 75ms/step - loss: 0.7487 - accuracy: 0.8457 - val_loss: 0.9364 - val_accuracy: 0.8150\n",
            "Epoch 5/20\n",
            "16/16 [==============================] - 1s 78ms/step - loss: 0.6043 - accuracy: 0.8806 - val_loss: 0.8766 - val_accuracy: 0.8210\n",
            "Epoch 6/20\n",
            "16/16 [==============================] - 1s 79ms/step - loss: 0.4939 - accuracy: 0.9025 - val_loss: 0.8321 - val_accuracy: 0.8230\n",
            "Epoch 7/20\n",
            "16/16 [==============================] - 1s 76ms/step - loss: 0.4139 - accuracy: 0.9158 - val_loss: 0.8055 - val_accuracy: 0.8270\n",
            "Epoch 8/20\n",
            "16/16 [==============================] - 2s 113ms/step - loss: 0.3489 - accuracy: 0.9275 - val_loss: 0.7908 - val_accuracy: 0.8300\n",
            "Epoch 9/20\n",
            "16/16 [==============================] - 2s 128ms/step - loss: 0.2986 - accuracy: 0.9355 - val_loss: 0.8076 - val_accuracy: 0.8280\n",
            "Epoch 10/20\n",
            "16/16 [==============================] - 1s 77ms/step - loss: 0.2638 - accuracy: 0.9407 - val_loss: 0.7909 - val_accuracy: 0.8230\n",
            "Epoch 11/20\n",
            "16/16 [==============================] - 1s 79ms/step - loss: 0.2301 - accuracy: 0.9466 - val_loss: 0.7753 - val_accuracy: 0.8390\n",
            "Epoch 12/20\n",
            "16/16 [==============================] - 1s 79ms/step - loss: 0.2085 - accuracy: 0.9484 - val_loss: 0.7800 - val_accuracy: 0.8330\n",
            "Epoch 13/20\n",
            "16/16 [==============================] - 1s 78ms/step - loss: 0.1893 - accuracy: 0.9524 - val_loss: 0.8110 - val_accuracy: 0.8210\n",
            "Epoch 14/20\n",
            "16/16 [==============================] - 1s 77ms/step - loss: 0.1716 - accuracy: 0.9538 - val_loss: 0.7907 - val_accuracy: 0.8260\n",
            "Epoch 15/20\n",
            "16/16 [==============================] - 1s 80ms/step - loss: 0.1611 - accuracy: 0.9546 - val_loss: 0.8062 - val_accuracy: 0.8220\n",
            "Epoch 16/20\n",
            "16/16 [==============================] - 2s 91ms/step - loss: 0.1487 - accuracy: 0.9558 - val_loss: 0.8158 - val_accuracy: 0.8250\n",
            "Epoch 17/20\n",
            "16/16 [==============================] - 2s 104ms/step - loss: 0.1422 - accuracy: 0.9567 - val_loss: 0.8116 - val_accuracy: 0.8260\n",
            "Epoch 18/20\n",
            "16/16 [==============================] - 2s 138ms/step - loss: 0.1337 - accuracy: 0.9570 - val_loss: 0.8378 - val_accuracy: 0.8230\n",
            "Epoch 19/20\n",
            "16/16 [==============================] - 1s 83ms/step - loss: 0.1296 - accuracy: 0.9559 - val_loss: 0.8368 - val_accuracy: 0.8210\n",
            "Epoch 20/20\n",
            "16/16 [==============================] - 1s 94ms/step - loss: 0.1227 - accuracy: 0.9575 - val_loss: 0.8360 - val_accuracy: 0.8220\n"
          ]
        }
      ],
      "source": [
        "model = keras.Sequential([\n",
        "    layers.Dense(128, activation=\"relu\"),\n",
        "    layers.Dense(46, activation=\"softmax\")\n",
        "])\n",
        "\n",
        "model.compile(optimizer=\"rmsprop\",\n",
        "              loss=\"categorical_crossentropy\",\n",
        "              metrics=[\"accuracy\"])\n",
        "\n",
        "x_val = x_train[:1000]\n",
        "partial_x_train = x_train[1000:]\n",
        "y_val = y_train[:1000]\n",
        "partial_y_train = y_train[1000:]\n",
        "\n",
        "history = model.fit(partial_x_train,\n",
        "                    partial_y_train,\n",
        "                    epochs=12,\n",
        "                    batch_size=512,\n",
        "                    validation_data=(x_val, y_val))\n"
      ]
    },
    {
      "cell_type": "markdown",
      "source": [
        "*After testing with just 1 hidden layer but with increased number of nodes produced the same results as to when we increase the number of layers and number of nodes, and here also we were able to achieve the accuracy of 0.95 on epoch 13. This shows increasing the number of nodes in a sigle hidden layer is better then creating multiple hidden layer.*"
      ],
      "metadata": {
        "id": "s6i8YOTtCPB-"
      }
    },
    {
      "cell_type": "code",
      "source": [
        "loss = history.history[\"loss\"]\n",
        "val_loss = history.history[\"val_loss\"]\n",
        "epochs = range(1, len(loss) + 1)\n",
        "plt.plot(epochs, loss, \"bo\", label=\"Training loss\")\n",
        "plt.plot(epochs, val_loss, \"b\", label=\"Validation loss\")\n",
        "plt.title(\"Training and validation loss\")\n",
        "plt.xlabel(\"Epochs\")\n",
        "plt.ylabel(\"Loss\")\n",
        "plt.legend()\n",
        "plt.show()"
      ],
      "metadata": {
        "colab": {
          "base_uri": "https://localhost:8080/",
          "height": 295
        },
        "id": "DV7F0mD7vd8S",
        "outputId": "a34cfb52-2802-4e06-b448-83040f3b4c8e"
      },
      "execution_count": null,
      "outputs": [
        {
          "output_type": "display_data",
          "data": {
            "text/plain": [
              "<Figure size 432x288 with 1 Axes>"
            ],
            "image/png": "[encoded data removed]"
          },
          "metadata": {
            "needs_background": "light"
          }
        }
      ]
    },
    {
      "cell_type": "code",
      "source": [
        "plt.clf()\n",
        "acc = history.history[\"accuracy\"]\n",
        "val_acc = history.history[\"val_accuracy\"]\n",
        "plt.plot(epochs, acc, \"bo\", label=\"Training accuracy\")\n",
        "plt.plot(epochs, val_acc, \"b\", label=\"Validation accuracy\")\n",
        "plt.title(\"Training and validation accuracy\")\n",
        "plt.xlabel(\"Epochs\")\n",
        "plt.ylabel(\"Accuracy\")\n",
        "plt.legend()\n",
        "plt.show()"
      ],
      "metadata": {
        "colab": {
          "base_uri": "https://localhost:8080/",
          "height": 295
        },
        "id": "vvWI737VvhW0",
        "outputId": "801ce9bf-bf10-44ce-eee5-c96e451c41f9"
      },
      "execution_count": null,
      "outputs": [
        {
          "output_type": "display_data",
          "data": {
            "text/plain": [
              "<Figure size 432x288 with 1 Axes>"
            ],
            "image/png": "[encoded data removed]"
          },
          "metadata": {
            "needs_background": "light"
          }
        }
      ]
    },
    {
      "cell_type": "markdown",
      "source": [
        "Answer the following questions about Modified Model #2:\n",
        "\n",
        "* What modification(s) did you make?\n",
        "\n",
        "  **Ans:**\n",
        "  *Using fewer dense layers and increasing the number of units in the dense layers*\n",
        "* How did this impact accuracy?\n",
        "  \n",
        "  **Ans:** *The model's accuracy can be improved by increasing the number of units in a dense layer, which allows the model to learn more complex representations of the input data. Using fewer dense layers, on the other hand, can reduce the model's accuracy by reducing the number of transformations that the input data goes through. Reduce the number of dense layers from two to one while increasing the number of units in that layer from 64 to 128.*"
      ],
      "metadata": {
        "id": "C9T9VymkTHcg"
      }
    }
  ]
}